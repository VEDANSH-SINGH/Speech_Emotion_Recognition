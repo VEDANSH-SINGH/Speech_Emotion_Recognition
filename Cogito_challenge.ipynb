{
 "cells": [
  {
   "cell_type": "code",
   "execution_count": 1,
   "metadata": {},
   "outputs": [],
   "source": [
    "import pandas as pd \n",
    "import numpy as np\n"
   ]
  },
  {
   "cell_type": "code",
   "execution_count": 2,
   "metadata": {},
   "outputs": [],
   "source": [
    "df=pd.read_csv(\"./dataset/train.csv\")\n"
   ]
  },
  {
   "cell_type": "code",
   "execution_count": 3,
   "metadata": {},
   "outputs": [
    {
     "data": {
      "text/html": [
       "<div>\n",
       "<style scoped>\n",
       "    .dataframe tbody tr th:only-of-type {\n",
       "        vertical-align: middle;\n",
       "    }\n",
       "\n",
       "    .dataframe tbody tr th {\n",
       "        vertical-align: top;\n",
       "    }\n",
       "\n",
       "    .dataframe thead th {\n",
       "        text-align: right;\n",
       "    }\n",
       "</style>\n",
       "<table border=\"1\" class=\"dataframe\">\n",
       "  <thead>\n",
       "    <tr style=\"text-align: right;\">\n",
       "      <th></th>\n",
       "      <th>filename</th>\n",
       "      <th>emotion</th>\n",
       "    </tr>\n",
       "  </thead>\n",
       "  <tbody>\n",
       "    <tr>\n",
       "      <th>0</th>\n",
       "      <td>18777.mp3</td>\n",
       "      <td>neutral</td>\n",
       "    </tr>\n",
       "    <tr>\n",
       "      <th>1</th>\n",
       "      <td>24041.mp3</td>\n",
       "      <td>neutral</td>\n",
       "    </tr>\n",
       "    <tr>\n",
       "      <th>2</th>\n",
       "      <td>1621.mp3</td>\n",
       "      <td>joy</td>\n",
       "    </tr>\n",
       "    <tr>\n",
       "      <th>3</th>\n",
       "      <td>28883.mp3</td>\n",
       "      <td>neutral</td>\n",
       "    </tr>\n",
       "    <tr>\n",
       "      <th>4</th>\n",
       "      <td>14918.mp3</td>\n",
       "      <td>neutral</td>\n",
       "    </tr>\n",
       "    <tr>\n",
       "      <th>...</th>\n",
       "      <td>...</td>\n",
       "      <td>...</td>\n",
       "    </tr>\n",
       "    <tr>\n",
       "      <th>95</th>\n",
       "      <td>28791.mp3</td>\n",
       "      <td>anger</td>\n",
       "    </tr>\n",
       "    <tr>\n",
       "      <th>96</th>\n",
       "      <td>2371.mp3</td>\n",
       "      <td>joy</td>\n",
       "    </tr>\n",
       "    <tr>\n",
       "      <th>97</th>\n",
       "      <td>27069.mp3</td>\n",
       "      <td>joy</td>\n",
       "    </tr>\n",
       "    <tr>\n",
       "      <th>98</th>\n",
       "      <td>8014.mp3</td>\n",
       "      <td>joy</td>\n",
       "    </tr>\n",
       "    <tr>\n",
       "      <th>99</th>\n",
       "      <td>21688.mp3</td>\n",
       "      <td>sadness</td>\n",
       "    </tr>\n",
       "  </tbody>\n",
       "</table>\n",
       "<p>100 rows × 2 columns</p>\n",
       "</div>"
      ],
      "text/plain": [
       "     filename  emotion\n",
       "0   18777.mp3  neutral\n",
       "1   24041.mp3  neutral\n",
       "2    1621.mp3      joy\n",
       "3   28883.mp3  neutral\n",
       "4   14918.mp3  neutral\n",
       "..        ...      ...\n",
       "95  28791.mp3    anger\n",
       "96   2371.mp3      joy\n",
       "97  27069.mp3      joy\n",
       "98   8014.mp3      joy\n",
       "99  21688.mp3  sadness\n",
       "\n",
       "[100 rows x 2 columns]"
      ]
     },
     "execution_count": 3,
     "metadata": {},
     "output_type": "execute_result"
    }
   ],
   "source": [
    "df.head(100)"
   ]
  },
  {
   "cell_type": "code",
   "execution_count": 4,
   "metadata": {
    "scrolled": false
   },
   "outputs": [
    {
     "data": {
      "text/plain": [
       "neutral     2630\n",
       "joy          967\n",
       "surprise     640\n",
       "anger        596\n",
       "sadness      344\n",
       "fear         328\n",
       "disgust      311\n",
       "Name: emotion, dtype: int64"
      ]
     },
     "execution_count": 4,
     "metadata": {},
     "output_type": "execute_result"
    }
   ],
   "source": [
    "df[\"emotion\"].value_counts()"
   ]
  },
  {
   "cell_type": "code",
   "execution_count": 5,
   "metadata": {},
   "outputs": [
    {
     "name": "stderr",
     "output_type": "stream",
     "text": [
      "C:\\Users\\ved17\\anaconda3\\lib\\site-packages\\librosa\\core\\audio.py:165: UserWarning: PySoundFile failed. Trying audioread instead.\n",
      "  warnings.warn(\"PySoundFile failed. Trying audioread instead.\")\n"
     ]
    },
    {
     "data": {
      "text/plain": [
       "<matplotlib.collections.PolyCollection at 0x17050e81700>"
      ]
     },
     "execution_count": 5,
     "metadata": {},
     "output_type": "execute_result"
    },
    {
     "data": {
      "image/png": "[encoded data removed]",
      "text/plain": [
       "<Figure size 432x288 with 1 Axes>"
      ]
     },
     "metadata": {
      "needs_background": "light"
     },
     "output_type": "display_data"
    }
   ],
   "source": [
    "\n",
    "import librosa\n",
    "import librosa.display\n",
    "sample_num=2\n",
    "\n",
    "#pick a file to display\n",
    "#get the filename \n",
    "filename=df.filename[sample_num]\n",
    "#define the beginning time of the signal\n",
    "y,sr=librosa.load('dataset/TrainAudioFiles/'+str(filename)) #load the file\n",
    "librosa.display.waveplot(y,sr=sr, x_axis='time', color='cyan')"
   ]
  },
  {
   "cell_type": "code",
   "execution_count": 6,
   "metadata": {},
   "outputs": [
    {
     "data": {
      "text/html": [
       "\n",
       "                <audio  controls=\"controls\" >\n",
       "                    <source src=\"data:audio/mpeg;base64,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\" type=\"audio/mpeg\" />\n",
       "                    Your browser does not support the audio element.\n",
       "                </audio>\n",
       "              "
      ],
      "text/plain": [
       "<IPython.lib.display.Audio object>"
      ]
     },
     "execution_count": 6,
     "metadata": {},
     "output_type": "execute_result"
    }
   ],
   "source": [
    "import IPython.display as ipd\n",
    "ipd.Audio('dataset/TrainAudioFiles/'+str(filename))"
   ]
  },
  {
   "cell_type": "code",
   "execution_count": 7,
   "metadata": {},
   "outputs": [
    {
     "data": {
      "text/plain": [
       "<matplotlib.colorbar.Colorbar at 0x1705164b730>"
      ]
     },
     "execution_count": 7,
     "metadata": {},
     "output_type": "execute_result"
    },
    {
     "data": {
      "image/png": "[encoded data removed]",
      "text/plain": [
       "<Figure size 1008x360 with 2 Axes>"
      ]
     },
     "metadata": {
      "needs_background": "light"
     },
     "output_type": "display_data"
    }
   ],
   "source": [
    "import matplotlib.pyplot as plt\n",
    "%matplotlib inline\n",
    "X = librosa.stft(y)\n",
    "Xdb = librosa.amplitude_to_db(abs(X))\n",
    "plt.figure(figsize=(14, 5))\n",
    "librosa.display.specshow(Xdb, sr=sr, x_axis='time', y_axis='hz')\n",
    "plt.colorbar()"
   ]
  },
  {
   "cell_type": "code",
   "execution_count": 8,
   "metadata": {},
   "outputs": [
    {
     "data": {
      "text/html": [
       "<div>\n",
       "<style scoped>\n",
       "    .dataframe tbody tr th:only-of-type {\n",
       "        vertical-align: middle;\n",
       "    }\n",
       "\n",
       "    .dataframe tbody tr th {\n",
       "        vertical-align: top;\n",
       "    }\n",
       "\n",
       "    .dataframe thead th {\n",
       "        text-align: right;\n",
       "    }\n",
       "</style>\n",
       "<table border=\"1\" class=\"dataframe\">\n",
       "  <thead>\n",
       "    <tr style=\"text-align: right;\">\n",
       "      <th></th>\n",
       "      <th>filename</th>\n",
       "      <th>emotion</th>\n",
       "    </tr>\n",
       "  </thead>\n",
       "  <tbody>\n",
       "    <tr>\n",
       "      <th>count</th>\n",
       "      <td>5816</td>\n",
       "      <td>5816</td>\n",
       "    </tr>\n",
       "    <tr>\n",
       "      <th>unique</th>\n",
       "      <td>5816</td>\n",
       "      <td>7</td>\n",
       "    </tr>\n",
       "    <tr>\n",
       "      <th>top</th>\n",
       "      <td>29063.mp3</td>\n",
       "      <td>neutral</td>\n",
       "    </tr>\n",
       "    <tr>\n",
       "      <th>freq</th>\n",
       "      <td>1</td>\n",
       "      <td>2630</td>\n",
       "    </tr>\n",
       "  </tbody>\n",
       "</table>\n",
       "</div>"
      ],
      "text/plain": [
       "         filename  emotion\n",
       "count        5816     5816\n",
       "unique       5816        7\n",
       "top     29063.mp3  neutral\n",
       "freq            1     2630"
      ]
     },
     "execution_count": 8,
     "metadata": {},
     "output_type": "execute_result"
    }
   ],
   "source": [
    "df.describe()"
   ]
  },
  {
   "cell_type": "code",
   "execution_count": 9,
   "metadata": {},
   "outputs": [
    {
     "name": "stdout",
     "output_type": "stream",
     "text": [
      "(20, 15)\n"
     ]
    },
    {
     "data": {
      "text/plain": [
       "<matplotlib.collections.QuadMesh at 0x170516e2310>"
      ]
     },
     "execution_count": 9,
     "metadata": {},
     "output_type": "execute_result"
    },
    {
     "data": {
      "image/png": "[encoded data removed]",
      "text/plain": [
       "<Figure size 1080x504 with 1 Axes>"
      ]
     },
     "metadata": {
      "needs_background": "light"
     },
     "output_type": "display_data"
    }
   ],
   "source": [
    "fs=10\n",
    "mfccs = librosa.feature.mfcc(y, sr=fs)\n",
    "print(mfccs.shape)\n",
    "(20, 97)\n",
    "#Displaying  the MFCCs:\n",
    "plt.figure(figsize=(15, 7))\n",
    "librosa.display.specshow(mfccs, sr=sr, x_axis='time')"
   ]
  },
  {
   "cell_type": "code",
   "execution_count": 10,
   "metadata": {},
   "outputs": [],
   "source": [
    "rmse = librosa.feature.rms(y=y)\n",
    "chroma_stft = librosa.feature.chroma_stft(y=y, sr=sr)\n",
    "spec_cent = librosa.feature.spectral_centroid(y=y, sr=sr)\n",
    "spec_bw = librosa.feature.spectral_bandwidth(y=y, sr=sr)\n",
    "rolloff = librosa.feature.spectral_rolloff(y=y, sr=sr)\n",
    "zcr = librosa.feature.zero_crossing_rate(y)\n",
    "mfcc = librosa.feature.mfcc(y=y, sr=sr)"
   ]
  },
  {
   "cell_type": "code",
   "execution_count": 11,
   "metadata": {},
   "outputs": [
    {
     "data": {
      "text/plain": [
       "array([[-4.17785828e+02, -4.23450195e+02, -4.24617126e+02,\n",
       "        -4.15576874e+02, -4.14506439e+02, -4.19058289e+02,\n",
       "        -3.80372467e+02, -3.08286316e+02, -2.62816437e+02,\n",
       "        -2.60122681e+02, -2.79712860e+02, -3.05410919e+02,\n",
       "        -3.23646210e+02, -3.41246643e+02, -3.87281555e+02],\n",
       "       [ 1.18222801e+02,  1.21844620e+02,  1.32491699e+02,\n",
       "         1.42508453e+02,  1.28018967e+02,  1.14702606e+02,\n",
       "         1.16332870e+02,  1.08307007e+02,  1.02544312e+02,\n",
       "         9.90054016e+01,  9.75238037e+01,  9.92943268e+01,\n",
       "         1.14034576e+02,  1.28827362e+02,  1.26638176e+02],\n",
       "       [ 1.60694122e+01,  1.52159052e+01,  2.49547729e+01,\n",
       "         2.39456787e+01,  1.61180058e+01,  1.36498032e+01,\n",
       "        -2.14585609e+01, -4.87751808e+01, -5.51127701e+01,\n",
       "        -5.39822845e+01, -4.87680130e+01, -3.36363068e+01,\n",
       "        -6.03367567e+00,  1.33458433e+01,  1.29235020e+01],\n",
       "       [ 4.27214966e+01,  4.12788925e+01,  4.65796928e+01,\n",
       "         5.13239594e+01,  5.76867790e+01,  5.82584000e+01,\n",
       "         6.58265381e+01,  8.15348663e+01,  8.52713776e+01,\n",
       "         8.58440552e+01,  9.11222687e+01,  9.52442703e+01,\n",
       "         8.12066956e+01,  5.54247589e+01,  5.73299713e+01],\n",
       "       [-7.39526939e+00, -5.64871025e+00,  3.34878385e-01,\n",
       "         8.39055920e+00, -4.35931396e+00, -1.25364857e+01,\n",
       "         4.36195278e+00, -5.91022396e+00, -1.55413055e+01,\n",
       "        -2.00632057e+01, -2.30068092e+01, -2.52358894e+01,\n",
       "        -1.80576687e+01, -2.06695175e+00, -8.51163983e-01],\n",
       "       [ 6.73822355e+00,  7.57081413e+00,  5.88854504e+00,\n",
       "         3.40852737e+00,  5.58540535e+00,  8.61529160e+00,\n",
       "        -1.16926546e+01, -2.42040462e+01, -2.86747360e+01,\n",
       "        -3.29030647e+01, -2.60050354e+01, -1.80713730e+01,\n",
       "        -1.81132431e+01, -8.50626659e+00, -1.21497858e+00],\n",
       "       [-8.11002350e+00, -1.07894382e+01, -1.83838310e+01,\n",
       "        -1.63638248e+01, -1.11129246e+01, -6.15379333e+00,\n",
       "        -2.54297295e+01, -2.53887024e+01, -1.86541462e+01,\n",
       "        -1.02459612e+01, -1.81143403e-01,  3.13826799e+00,\n",
       "         5.22183001e-01, -8.93727112e+00, -6.40388536e+00],\n",
       "       [-2.01153545e+01, -1.79666309e+01, -1.72018776e+01,\n",
       "        -1.33262501e+01, -9.76649666e+00, -5.28761196e+00,\n",
       "        -7.86627102e+00, -9.10667229e+00, -3.52734327e+00,\n",
       "        -3.73182726e+00, -8.04372787e-01, -4.53892410e-01,\n",
       "         1.06963694e-01,  4.89032984e-01, -5.50469971e+00],\n",
       "       [-1.94691050e+00, -4.80543613e+00, -1.59484749e+01,\n",
       "        -1.64473629e+01, -1.17617712e+01, -7.21723747e+00,\n",
       "        -1.46948709e+01, -1.57865524e+01, -1.93574142e+01,\n",
       "        -1.83526268e+01, -1.27430267e+01, -1.41891689e+01,\n",
       "        -1.52669411e+01, -1.11839943e+01, -1.22544813e+01],\n",
       "       [-4.40937519e-01,  6.09110773e-01, -5.22395897e+00,\n",
       "        -4.49183464e+00, -2.84987712e+00,  6.14317358e-02,\n",
       "        -1.40211887e+01, -2.65503788e+00, -1.82224882e+00,\n",
       "        -5.24277401e+00, -7.51779747e+00, -1.05476933e+01,\n",
       "        -9.54334736e+00, -5.13838673e+00, -5.96527672e+00],\n",
       "       [-1.27637053e+01, -9.44349670e+00, -1.01762619e+01,\n",
       "        -1.24778614e+01, -1.05074472e+01, -9.96567154e+00,\n",
       "        -1.97503681e+01, -2.44310017e+01, -2.51274033e+01,\n",
       "        -2.23430176e+01, -1.98614197e+01, -1.41059151e+01,\n",
       "        -6.89509392e+00, -2.70618892e+00, -6.84788132e+00],\n",
       "       [-3.70176363e+00, -4.54503155e+00, -8.49424362e+00,\n",
       "        -6.36380100e+00, -4.56360960e+00, -9.62281108e-01,\n",
       "         1.60034657e+00,  8.68892288e+00,  1.36786957e+01,\n",
       "         1.40929594e+01,  1.00897274e+01,  6.37417603e+00,\n",
       "         4.81429815e+00,  3.36797190e+00,  2.87334013e+00],\n",
       "       [-3.56966019e+00, -9.15872574e+00, -1.30832233e+01,\n",
       "        -1.00311632e+01, -8.61267757e+00, -2.74602413e+00,\n",
       "        -1.83874869e+00,  1.81960022e+00,  3.70686889e+00,\n",
       "         1.92624605e+00, -8.07597446e+00, -1.80496635e+01,\n",
       "        -2.36871204e+01, -1.84507179e+01, -1.46875629e+01],\n",
       "       [-2.75164676e+00, -3.15902185e+00, -1.32882667e+00,\n",
       "        -3.99278951e+00, -5.01241350e+00, -6.83510971e+00,\n",
       "        -3.40719652e+00, -9.51329613e+00, -6.95650053e+00,\n",
       "        -5.34872961e+00, -2.31056023e+00, -5.40235519e-01,\n",
       "        -1.82885066e-01, -3.19960284e+00, -3.90313339e+00],\n",
       "       [ 9.07963657e+00, -8.08537841e-01, -7.24748611e+00,\n",
       "        -6.26116180e+00, -8.67174244e+00, -1.35766029e+01,\n",
       "        -7.08662415e+00,  3.38335514e-01,  2.90067196e+00,\n",
       "         1.38436568e+00,  1.94792271e-01,  7.20479131e-01,\n",
       "        -9.73704278e-01, -5.68695831e+00, -7.82042694e+00],\n",
       "       [ 1.90857923e+00, -4.50304174e+00, -3.10095787e+00,\n",
       "         5.90141296e-01, -2.19701886e-01, -1.97159398e+00,\n",
       "        -3.73056769e-01, -4.79368305e+00, -5.22646904e+00,\n",
       "        -9.88965702e+00, -1.37496738e+01, -1.47078562e+01,\n",
       "        -1.43180285e+01, -6.82549667e+00, -8.40352917e+00],\n",
       "       [-9.93781090e+00, -1.64288254e+01, -1.42131729e+01,\n",
       "        -1.25454025e+01, -1.18068733e+01, -9.28173447e+00,\n",
       "        -1.58831906e+00, -4.93146181e-01, -3.67751145e+00,\n",
       "        -9.63290977e+00, -1.42935028e+01, -8.77060604e+00,\n",
       "        -4.95629215e+00, -8.20635033e+00, -1.33665886e+01],\n",
       "       [-4.97919226e+00, -8.75690269e+00, -9.70949650e+00,\n",
       "        -9.57631302e+00, -7.18101788e+00, -6.21259499e+00,\n",
       "        -7.03572750e+00, -5.85906982e+00, -4.94458580e+00,\n",
       "        -2.57464933e+00,  1.51139140e+00,  4.31493950e+00,\n",
       "        -3.53513098e+00, -9.63910103e+00, -7.92397642e+00],\n",
       "       [ 4.19414139e+00, -3.48235750e+00, -8.67312050e+00,\n",
       "        -7.64088440e+00,  8.34902883e-01,  2.07842731e+00,\n",
       "        -7.54345989e+00, -1.11873932e+01, -1.10144367e+01,\n",
       "        -1.39510412e+01, -1.25166073e+01, -1.41940689e+01,\n",
       "        -1.93805656e+01, -1.35541306e+01, -1.14413910e+01],\n",
       "       [ 3.29817867e+00,  4.89479828e+00,  2.25513959e+00,\n",
       "        -2.59141994e+00, -2.03664947e+00,  2.00931215e+00,\n",
       "         7.26971436e+00,  1.32829504e+01,  1.53276176e+01,\n",
       "         1.49659538e+01,  1.30204010e+01,  8.82827568e+00,\n",
       "         9.99020576e+00,  7.69213057e+00,  3.85616159e+00]], dtype=float32)"
      ]
     },
     "execution_count": 11,
     "metadata": {},
     "output_type": "execute_result"
    }
   ],
   "source": [
    "mfcc\n"
   ]
  },
  {
   "cell_type": "code",
   "execution_count": 12,
   "metadata": {},
   "outputs": [
    {
     "data": {
      "text/html": [
       "<div>\n",
       "<style scoped>\n",
       "    .dataframe tbody tr th:only-of-type {\n",
       "        vertical-align: middle;\n",
       "    }\n",
       "\n",
       "    .dataframe tbody tr th {\n",
       "        vertical-align: top;\n",
       "    }\n",
       "\n",
       "    .dataframe thead th {\n",
       "        text-align: right;\n",
       "    }\n",
       "</style>\n",
       "<table border=\"1\" class=\"dataframe\">\n",
       "  <thead>\n",
       "    <tr style=\"text-align: right;\">\n",
       "      <th></th>\n",
       "      <th>filename</th>\n",
       "      <th>emotion</th>\n",
       "    </tr>\n",
       "  </thead>\n",
       "  <tbody>\n",
       "    <tr>\n",
       "      <th>0</th>\n",
       "      <td>18777.mp3</td>\n",
       "      <td>neutral</td>\n",
       "    </tr>\n",
       "    <tr>\n",
       "      <th>1</th>\n",
       "      <td>24041.mp3</td>\n",
       "      <td>neutral</td>\n",
       "    </tr>\n",
       "    <tr>\n",
       "      <th>2</th>\n",
       "      <td>1621.mp3</td>\n",
       "      <td>joy</td>\n",
       "    </tr>\n",
       "    <tr>\n",
       "      <th>3</th>\n",
       "      <td>28883.mp3</td>\n",
       "      <td>neutral</td>\n",
       "    </tr>\n",
       "    <tr>\n",
       "      <th>4</th>\n",
       "      <td>14918.mp3</td>\n",
       "      <td>neutral</td>\n",
       "    </tr>\n",
       "    <tr>\n",
       "      <th>...</th>\n",
       "      <td>...</td>\n",
       "      <td>...</td>\n",
       "    </tr>\n",
       "    <tr>\n",
       "      <th>5811</th>\n",
       "      <td>6688.mp3</td>\n",
       "      <td>neutral</td>\n",
       "    </tr>\n",
       "    <tr>\n",
       "      <th>5812</th>\n",
       "      <td>41901.wav</td>\n",
       "      <td>fear</td>\n",
       "    </tr>\n",
       "    <tr>\n",
       "      <th>5813</th>\n",
       "      <td>2066.mp3</td>\n",
       "      <td>neutral</td>\n",
       "    </tr>\n",
       "    <tr>\n",
       "      <th>5814</th>\n",
       "      <td>10825.mp3</td>\n",
       "      <td>surprise</td>\n",
       "    </tr>\n",
       "    <tr>\n",
       "      <th>5815</th>\n",
       "      <td>21904.mp3</td>\n",
       "      <td>neutral</td>\n",
       "    </tr>\n",
       "  </tbody>\n",
       "</table>\n",
       "<p>5816 rows × 2 columns</p>\n",
       "</div>"
      ],
      "text/plain": [
       "       filename   emotion\n",
       "0     18777.mp3   neutral\n",
       "1     24041.mp3   neutral\n",
       "2      1621.mp3       joy\n",
       "3     28883.mp3   neutral\n",
       "4     14918.mp3   neutral\n",
       "...         ...       ...\n",
       "5811   6688.mp3   neutral\n",
       "5812  41901.wav      fear\n",
       "5813   2066.mp3   neutral\n",
       "5814  10825.mp3  surprise\n",
       "5815  21904.mp3   neutral\n",
       "\n",
       "[5816 rows x 2 columns]"
      ]
     },
     "execution_count": 12,
     "metadata": {},
     "output_type": "execute_result"
    }
   ],
   "source": [
    "df"
   ]
  },
  {
   "cell_type": "code",
   "execution_count": 13,
   "metadata": {},
   "outputs": [],
   "source": [
    "audio_dataset_path='./dataset/TrainAudioFiles'"
   ]
  },
  {
   "cell_type": "code",
   "execution_count": 14,
   "metadata": {},
   "outputs": [],
   "source": [
    "def features_extractor(file):\n",
    "    audio, sample_rate = librosa.load(file_name, res_type='kaiser_fast') \n",
    "    mfccs_features = librosa.feature.mfcc(y=audio, sr=sample_rate, n_mfcc=40)\n",
    "    mfccs_scaled_features = np.mean(mfccs_features.T,axis=0)\n",
    "    \n",
    "    return mfccs_scaled_features"
   ]
  },
  {
   "cell_type": "code",
   "execution_count": 15,
   "metadata": {},
   "outputs": [
    {
     "name": "stderr",
     "output_type": "stream",
     "text": [
      "0it [00:00, ?it/s]C:\\Users\\ved17\\anaconda3\\lib\\site-packages\\librosa\\core\\audio.py:165: UserWarning: PySoundFile failed. Trying audioread instead.\n",
      "  warnings.warn(\"PySoundFile failed. Trying audioread instead.\")\n",
      "148it [01:22,  1.79it/s]\n"
     ]
    },
    {
     "ename": "KeyboardInterrupt",
     "evalue": "",
     "output_type": "error",
     "traceback": [
      "\u001b[1;31m---------------------------------------------------------------------------\u001b[0m",
      "\u001b[1;31mRuntimeError\u001b[0m                              Traceback (most recent call last)",
      "\u001b[1;32m~\\anaconda3\\lib\\site-packages\\librosa\\core\\audio.py\u001b[0m in \u001b[0;36mload\u001b[1;34m(path, sr, mono, offset, duration, dtype, res_type)\u001b[0m\n\u001b[0;32m    148\u001b[0m     \u001b[1;32mtry\u001b[0m\u001b[1;33m:\u001b[0m\u001b[1;33m\u001b[0m\u001b[1;33m\u001b[0m\u001b[0m\n\u001b[1;32m--> 149\u001b[1;33m         \u001b[1;32mwith\u001b[0m \u001b[0msf\u001b[0m\u001b[1;33m.\u001b[0m\u001b[0mSoundFile\u001b[0m\u001b[1;33m(\u001b[0m\u001b[0mpath\u001b[0m\u001b[1;33m)\u001b[0m \u001b[1;32mas\u001b[0m \u001b[0msf_desc\u001b[0m\u001b[1;33m:\u001b[0m\u001b[1;33m\u001b[0m\u001b[1;33m\u001b[0m\u001b[0m\n\u001b[0m\u001b[0;32m    150\u001b[0m             \u001b[0msr_native\u001b[0m \u001b[1;33m=\u001b[0m \u001b[0msf_desc\u001b[0m\u001b[1;33m.\u001b[0m\u001b[0msamplerate\u001b[0m\u001b[1;33m\u001b[0m\u001b[1;33m\u001b[0m\u001b[0m\n",
      "\u001b[1;32m~\\anaconda3\\lib\\site-packages\\soundfile.py\u001b[0m in \u001b[0;36m__init__\u001b[1;34m(self, file, mode, samplerate, channels, subtype, endian, format, closefd)\u001b[0m\n\u001b[0;32m    628\u001b[0m                                          format, subtype, endian)\n\u001b[1;32m--> 629\u001b[1;33m         \u001b[0mself\u001b[0m\u001b[1;33m.\u001b[0m\u001b[0m_file\u001b[0m \u001b[1;33m=\u001b[0m \u001b[0mself\u001b[0m\u001b[1;33m.\u001b[0m\u001b[0m_open\u001b[0m\u001b[1;33m(\u001b[0m\u001b[0mfile\u001b[0m\u001b[1;33m,\u001b[0m \u001b[0mmode_int\u001b[0m\u001b[1;33m,\u001b[0m \u001b[0mclosefd\u001b[0m\u001b[1;33m)\u001b[0m\u001b[1;33m\u001b[0m\u001b[1;33m\u001b[0m\u001b[0m\n\u001b[0m\u001b[0;32m    630\u001b[0m         \u001b[1;32mif\u001b[0m \u001b[0mset\u001b[0m\u001b[1;33m(\u001b[0m\u001b[0mmode\u001b[0m\u001b[1;33m)\u001b[0m\u001b[1;33m.\u001b[0m\u001b[0missuperset\u001b[0m\u001b[1;33m(\u001b[0m\u001b[1;34m'r+'\u001b[0m\u001b[1;33m)\u001b[0m \u001b[1;32mand\u001b[0m \u001b[0mself\u001b[0m\u001b[1;33m.\u001b[0m\u001b[0mseekable\u001b[0m\u001b[1;33m(\u001b[0m\u001b[1;33m)\u001b[0m\u001b[1;33m:\u001b[0m\u001b[1;33m\u001b[0m\u001b[1;33m\u001b[0m\u001b[0m\n",
      "\u001b[1;32m~\\anaconda3\\lib\\site-packages\\soundfile.py\u001b[0m in \u001b[0;36m_open\u001b[1;34m(self, file, mode_int, closefd)\u001b[0m\n\u001b[0;32m   1182\u001b[0m             \u001b[1;32mraise\u001b[0m \u001b[0mTypeError\u001b[0m\u001b[1;33m(\u001b[0m\u001b[1;34m\"Invalid file: {0!r}\"\u001b[0m\u001b[1;33m.\u001b[0m\u001b[0mformat\u001b[0m\u001b[1;33m(\u001b[0m\u001b[0mself\u001b[0m\u001b[1;33m.\u001b[0m\u001b[0mname\u001b[0m\u001b[1;33m)\u001b[0m\u001b[1;33m)\u001b[0m\u001b[1;33m\u001b[0m\u001b[1;33m\u001b[0m\u001b[0m\n\u001b[1;32m-> 1183\u001b[1;33m         _error_check(_snd.sf_error(file_ptr),\n\u001b[0m\u001b[0;32m   1184\u001b[0m                      \"Error opening {0!r}: \".format(self.name))\n",
      "\u001b[1;32m~\\anaconda3\\lib\\site-packages\\soundfile.py\u001b[0m in \u001b[0;36m_error_check\u001b[1;34m(err, prefix)\u001b[0m\n\u001b[0;32m   1356\u001b[0m         \u001b[0merr_str\u001b[0m \u001b[1;33m=\u001b[0m \u001b[0m_snd\u001b[0m\u001b[1;33m.\u001b[0m\u001b[0msf_error_number\u001b[0m\u001b[1;33m(\u001b[0m\u001b[0merr\u001b[0m\u001b[1;33m)\u001b[0m\u001b[1;33m\u001b[0m\u001b[1;33m\u001b[0m\u001b[0m\n\u001b[1;32m-> 1357\u001b[1;33m         \u001b[1;32mraise\u001b[0m \u001b[0mRuntimeError\u001b[0m\u001b[1;33m(\u001b[0m\u001b[0mprefix\u001b[0m \u001b[1;33m+\u001b[0m \u001b[0m_ffi\u001b[0m\u001b[1;33m.\u001b[0m\u001b[0mstring\u001b[0m\u001b[1;33m(\u001b[0m\u001b[0merr_str\u001b[0m\u001b[1;33m)\u001b[0m\u001b[1;33m.\u001b[0m\u001b[0mdecode\u001b[0m\u001b[1;33m(\u001b[0m\u001b[1;34m'utf-8'\u001b[0m\u001b[1;33m,\u001b[0m \u001b[1;34m'replace'\u001b[0m\u001b[1;33m)\u001b[0m\u001b[1;33m)\u001b[0m\u001b[1;33m\u001b[0m\u001b[1;33m\u001b[0m\u001b[0m\n\u001b[0m\u001b[0;32m   1358\u001b[0m \u001b[1;33m\u001b[0m\u001b[0m\n",
      "\u001b[1;31mRuntimeError\u001b[0m: Error opening './dataset/TrainAudioFiles\\\\3445.mp3': File contains data in an unknown format.",
      "\nDuring handling of the above exception, another exception occurred:\n",
      "\u001b[1;31mKeyboardInterrupt\u001b[0m                         Traceback (most recent call last)",
      "\u001b[1;32m<ipython-input-15-2ff86c75c81e>\u001b[0m in \u001b[0;36m<module>\u001b[1;34m\u001b[0m\n\u001b[0;32m      7\u001b[0m     \u001b[0mfile_name\u001b[0m \u001b[1;33m=\u001b[0m \u001b[0mos\u001b[0m\u001b[1;33m.\u001b[0m\u001b[0mpath\u001b[0m\u001b[1;33m.\u001b[0m\u001b[0mjoin\u001b[0m\u001b[1;33m(\u001b[0m\u001b[0maudio_dataset_path\u001b[0m\u001b[1;33m,\u001b[0m\u001b[0mstr\u001b[0m\u001b[1;33m(\u001b[0m\u001b[0mrow\u001b[0m\u001b[1;33m[\u001b[0m\u001b[1;34m\"filename\"\u001b[0m\u001b[1;33m]\u001b[0m\u001b[1;33m)\u001b[0m\u001b[1;33m)\u001b[0m\u001b[1;33m\u001b[0m\u001b[1;33m\u001b[0m\u001b[0m\n\u001b[0;32m      8\u001b[0m     \u001b[0mfinal_class_labels\u001b[0m\u001b[1;33m=\u001b[0m\u001b[0mrow\u001b[0m\u001b[1;33m[\u001b[0m\u001b[1;34m\"emotion\"\u001b[0m\u001b[1;33m]\u001b[0m\u001b[1;33m\u001b[0m\u001b[1;33m\u001b[0m\u001b[0m\n\u001b[1;32m----> 9\u001b[1;33m     \u001b[0mdata\u001b[0m\u001b[1;33m=\u001b[0m\u001b[0mfeatures_extractor\u001b[0m\u001b[1;33m(\u001b[0m\u001b[0mfile_name\u001b[0m\u001b[1;33m)\u001b[0m\u001b[1;33m\u001b[0m\u001b[1;33m\u001b[0m\u001b[0m\n\u001b[0m\u001b[0;32m     10\u001b[0m     \u001b[0mextracted_features\u001b[0m\u001b[1;33m.\u001b[0m\u001b[0mappend\u001b[0m\u001b[1;33m(\u001b[0m\u001b[1;33m[\u001b[0m\u001b[0mdata\u001b[0m\u001b[1;33m,\u001b[0m\u001b[0mfinal_class_labels\u001b[0m\u001b[1;33m]\u001b[0m\u001b[1;33m)\u001b[0m\u001b[1;33m\u001b[0m\u001b[1;33m\u001b[0m\u001b[0m\n",
      "\u001b[1;32m<ipython-input-14-2480e1218014>\u001b[0m in \u001b[0;36mfeatures_extractor\u001b[1;34m(file)\u001b[0m\n\u001b[0;32m      1\u001b[0m \u001b[1;32mdef\u001b[0m \u001b[0mfeatures_extractor\u001b[0m\u001b[1;33m(\u001b[0m\u001b[0mfile\u001b[0m\u001b[1;33m)\u001b[0m\u001b[1;33m:\u001b[0m\u001b[1;33m\u001b[0m\u001b[1;33m\u001b[0m\u001b[0m\n\u001b[1;32m----> 2\u001b[1;33m     \u001b[0maudio\u001b[0m\u001b[1;33m,\u001b[0m \u001b[0msample_rate\u001b[0m \u001b[1;33m=\u001b[0m \u001b[0mlibrosa\u001b[0m\u001b[1;33m.\u001b[0m\u001b[0mload\u001b[0m\u001b[1;33m(\u001b[0m\u001b[0mfile_name\u001b[0m\u001b[1;33m,\u001b[0m \u001b[0mres_type\u001b[0m\u001b[1;33m=\u001b[0m\u001b[1;34m'kaiser_fast'\u001b[0m\u001b[1;33m)\u001b[0m\u001b[1;33m\u001b[0m\u001b[1;33m\u001b[0m\u001b[0m\n\u001b[0m\u001b[0;32m      3\u001b[0m     \u001b[0mmfccs_features\u001b[0m \u001b[1;33m=\u001b[0m \u001b[0mlibrosa\u001b[0m\u001b[1;33m.\u001b[0m\u001b[0mfeature\u001b[0m\u001b[1;33m.\u001b[0m\u001b[0mmfcc\u001b[0m\u001b[1;33m(\u001b[0m\u001b[0my\u001b[0m\u001b[1;33m=\u001b[0m\u001b[0maudio\u001b[0m\u001b[1;33m,\u001b[0m \u001b[0msr\u001b[0m\u001b[1;33m=\u001b[0m\u001b[0msample_rate\u001b[0m\u001b[1;33m,\u001b[0m \u001b[0mn_mfcc\u001b[0m\u001b[1;33m=\u001b[0m\u001b[1;36m40\u001b[0m\u001b[1;33m)\u001b[0m\u001b[1;33m\u001b[0m\u001b[1;33m\u001b[0m\u001b[0m\n\u001b[0;32m      4\u001b[0m     \u001b[0mmfccs_scaled_features\u001b[0m \u001b[1;33m=\u001b[0m \u001b[0mnp\u001b[0m\u001b[1;33m.\u001b[0m\u001b[0mmean\u001b[0m\u001b[1;33m(\u001b[0m\u001b[0mmfccs_features\u001b[0m\u001b[1;33m.\u001b[0m\u001b[0mT\u001b[0m\u001b[1;33m,\u001b[0m\u001b[0maxis\u001b[0m\u001b[1;33m=\u001b[0m\u001b[1;36m0\u001b[0m\u001b[1;33m)\u001b[0m\u001b[1;33m\u001b[0m\u001b[1;33m\u001b[0m\u001b[0m\n\u001b[0;32m      5\u001b[0m \u001b[1;33m\u001b[0m\u001b[0m\n",
      "\u001b[1;32m~\\anaconda3\\lib\\site-packages\\librosa\\core\\audio.py\u001b[0m in \u001b[0;36mload\u001b[1;34m(path, sr, mono, offset, duration, dtype, res_type)\u001b[0m\n\u001b[0;32m    164\u001b[0m         \u001b[1;32mif\u001b[0m \u001b[0misinstance\u001b[0m\u001b[1;33m(\u001b[0m\u001b[0mpath\u001b[0m\u001b[1;33m,\u001b[0m \u001b[1;33m(\u001b[0m\u001b[0mstr\u001b[0m\u001b[1;33m,\u001b[0m \u001b[0mpathlib\u001b[0m\u001b[1;33m.\u001b[0m\u001b[0mPurePath\u001b[0m\u001b[1;33m)\u001b[0m\u001b[1;33m)\u001b[0m\u001b[1;33m:\u001b[0m\u001b[1;33m\u001b[0m\u001b[1;33m\u001b[0m\u001b[0m\n\u001b[0;32m    165\u001b[0m             \u001b[0mwarnings\u001b[0m\u001b[1;33m.\u001b[0m\u001b[0mwarn\u001b[0m\u001b[1;33m(\u001b[0m\u001b[1;34m\"PySoundFile failed. Trying audioread instead.\"\u001b[0m\u001b[1;33m)\u001b[0m\u001b[1;33m\u001b[0m\u001b[1;33m\u001b[0m\u001b[0m\n\u001b[1;32m--> 166\u001b[1;33m             \u001b[0my\u001b[0m\u001b[1;33m,\u001b[0m \u001b[0msr_native\u001b[0m \u001b[1;33m=\u001b[0m \u001b[0m__audioread_load\u001b[0m\u001b[1;33m(\u001b[0m\u001b[0mpath\u001b[0m\u001b[1;33m,\u001b[0m \u001b[0moffset\u001b[0m\u001b[1;33m,\u001b[0m \u001b[0mduration\u001b[0m\u001b[1;33m,\u001b[0m \u001b[0mdtype\u001b[0m\u001b[1;33m)\u001b[0m\u001b[1;33m\u001b[0m\u001b[1;33m\u001b[0m\u001b[0m\n\u001b[0m\u001b[0;32m    167\u001b[0m         \u001b[1;32melse\u001b[0m\u001b[1;33m:\u001b[0m\u001b[1;33m\u001b[0m\u001b[1;33m\u001b[0m\u001b[0m\n\u001b[0;32m    168\u001b[0m             \u001b[1;32mraise\u001b[0m \u001b[1;33m(\u001b[0m\u001b[0mexc\u001b[0m\u001b[1;33m)\u001b[0m\u001b[1;33m\u001b[0m\u001b[1;33m\u001b[0m\u001b[0m\n",
      "\u001b[1;32m~\\anaconda3\\lib\\site-packages\\librosa\\core\\audio.py\u001b[0m in \u001b[0;36m__audioread_load\u001b[1;34m(path, offset, duration, dtype)\u001b[0m\n\u001b[0;32m    188\u001b[0m \u001b[1;33m\u001b[0m\u001b[0m\n\u001b[0;32m    189\u001b[0m     \u001b[0my\u001b[0m \u001b[1;33m=\u001b[0m \u001b[1;33m[\u001b[0m\u001b[1;33m]\u001b[0m\u001b[1;33m\u001b[0m\u001b[1;33m\u001b[0m\u001b[0m\n\u001b[1;32m--> 190\u001b[1;33m     \u001b[1;32mwith\u001b[0m \u001b[0maudioread\u001b[0m\u001b[1;33m.\u001b[0m\u001b[0maudio_open\u001b[0m\u001b[1;33m(\u001b[0m\u001b[0mpath\u001b[0m\u001b[1;33m)\u001b[0m \u001b[1;32mas\u001b[0m \u001b[0minput_file\u001b[0m\u001b[1;33m:\u001b[0m\u001b[1;33m\u001b[0m\u001b[1;33m\u001b[0m\u001b[0m\n\u001b[0m\u001b[0;32m    191\u001b[0m         \u001b[0msr_native\u001b[0m \u001b[1;33m=\u001b[0m \u001b[0minput_file\u001b[0m\u001b[1;33m.\u001b[0m\u001b[0msamplerate\u001b[0m\u001b[1;33m\u001b[0m\u001b[1;33m\u001b[0m\u001b[0m\n\u001b[0;32m    192\u001b[0m         \u001b[0mn_channels\u001b[0m \u001b[1;33m=\u001b[0m \u001b[0minput_file\u001b[0m\u001b[1;33m.\u001b[0m\u001b[0mchannels\u001b[0m\u001b[1;33m\u001b[0m\u001b[1;33m\u001b[0m\u001b[0m\n",
      "\u001b[1;32m~\\anaconda3\\lib\\site-packages\\audioread\\__init__.py\u001b[0m in \u001b[0;36maudio_open\u001b[1;34m(path, backends)\u001b[0m\n\u001b[0;32m    109\u001b[0m     \u001b[1;32mfor\u001b[0m \u001b[0mBackendClass\u001b[0m \u001b[1;32min\u001b[0m \u001b[0mbackends\u001b[0m\u001b[1;33m:\u001b[0m\u001b[1;33m\u001b[0m\u001b[1;33m\u001b[0m\u001b[0m\n\u001b[0;32m    110\u001b[0m         \u001b[1;32mtry\u001b[0m\u001b[1;33m:\u001b[0m\u001b[1;33m\u001b[0m\u001b[1;33m\u001b[0m\u001b[0m\n\u001b[1;32m--> 111\u001b[1;33m             \u001b[1;32mreturn\u001b[0m \u001b[0mBackendClass\u001b[0m\u001b[1;33m(\u001b[0m\u001b[0mpath\u001b[0m\u001b[1;33m)\u001b[0m\u001b[1;33m\u001b[0m\u001b[1;33m\u001b[0m\u001b[0m\n\u001b[0m\u001b[0;32m    112\u001b[0m         \u001b[1;32mexcept\u001b[0m \u001b[0mDecodeError\u001b[0m\u001b[1;33m:\u001b[0m\u001b[1;33m\u001b[0m\u001b[1;33m\u001b[0m\u001b[0m\n\u001b[0;32m    113\u001b[0m             \u001b[1;32mpass\u001b[0m\u001b[1;33m\u001b[0m\u001b[1;33m\u001b[0m\u001b[0m\n",
      "\u001b[1;32m~\\anaconda3\\lib\\site-packages\\audioread\\ffdec.py\u001b[0m in \u001b[0;36m__init__\u001b[1;34m(self, filename, block_size)\u001b[0m\n\u001b[0;32m    172\u001b[0m \u001b[1;33m\u001b[0m\u001b[0m\n\u001b[0;32m    173\u001b[0m         \u001b[1;31m# Read relevant information from stderr.\u001b[0m\u001b[1;33m\u001b[0m\u001b[1;33m\u001b[0m\u001b[1;33m\u001b[0m\u001b[0m\n\u001b[1;32m--> 174\u001b[1;33m         \u001b[0mself\u001b[0m\u001b[1;33m.\u001b[0m\u001b[0m_get_info\u001b[0m\u001b[1;33m(\u001b[0m\u001b[1;33m)\u001b[0m\u001b[1;33m\u001b[0m\u001b[1;33m\u001b[0m\u001b[0m\n\u001b[0m\u001b[0;32m    175\u001b[0m \u001b[1;33m\u001b[0m\u001b[0m\n\u001b[0;32m    176\u001b[0m         \u001b[1;31m# Start a separate thread to read the rest of the data from\u001b[0m\u001b[1;33m\u001b[0m\u001b[1;33m\u001b[0m\u001b[1;33m\u001b[0m\u001b[0m\n",
      "\u001b[1;32m~\\anaconda3\\lib\\site-packages\\audioread\\ffdec.py\u001b[0m in \u001b[0;36m_get_info\u001b[1;34m(self)\u001b[0m\n\u001b[0;32m    216\u001b[0m         \u001b[0mout_parts\u001b[0m \u001b[1;33m=\u001b[0m \u001b[1;33m[\u001b[0m\u001b[1;33m]\u001b[0m\u001b[1;33m\u001b[0m\u001b[1;33m\u001b[0m\u001b[0m\n\u001b[0;32m    217\u001b[0m         \u001b[1;32mwhile\u001b[0m \u001b[1;32mTrue\u001b[0m\u001b[1;33m:\u001b[0m\u001b[1;33m\u001b[0m\u001b[1;33m\u001b[0m\u001b[0m\n\u001b[1;32m--> 218\u001b[1;33m             \u001b[0mline\u001b[0m \u001b[1;33m=\u001b[0m \u001b[0mself\u001b[0m\u001b[1;33m.\u001b[0m\u001b[0mproc\u001b[0m\u001b[1;33m.\u001b[0m\u001b[0mstderr\u001b[0m\u001b[1;33m.\u001b[0m\u001b[0mreadline\u001b[0m\u001b[1;33m(\u001b[0m\u001b[1;33m)\u001b[0m\u001b[1;33m\u001b[0m\u001b[1;33m\u001b[0m\u001b[0m\n\u001b[0m\u001b[0;32m    219\u001b[0m             \u001b[1;32mif\u001b[0m \u001b[1;32mnot\u001b[0m \u001b[0mline\u001b[0m\u001b[1;33m:\u001b[0m\u001b[1;33m\u001b[0m\u001b[1;33m\u001b[0m\u001b[0m\n\u001b[0;32m    220\u001b[0m                 \u001b[1;31m# EOF and data not found.\u001b[0m\u001b[1;33m\u001b[0m\u001b[1;33m\u001b[0m\u001b[1;33m\u001b[0m\u001b[0m\n",
      "\u001b[1;31mKeyboardInterrupt\u001b[0m: "
     ]
    }
   ],
   "source": [
    "\n",
    "from tqdm import tqdm\n",
    "import os\n",
    "### Now we iterate through every audio file and extract features \n",
    "### using Mel-Frequency Cepstral Coefficients\n",
    "extracted_features=[]\n",
    "for index_num,row in tqdm(df.iterrows()):\n",
    "    file_name = os.path.join(audio_dataset_path,str(row[\"filename\"]))\n",
    "    final_class_labels=row[\"emotion\"]\n",
    "    data=features_extractor(file_name)\n",
    "    extracted_features.append([data,final_class_labels])"
   ]
  },
  {
   "cell_type": "code",
   "execution_count": 16,
   "metadata": {},
   "outputs": [
    {
     "data": {
      "text/html": [
       "<div>\n",
       "<style scoped>\n",
       "    .dataframe tbody tr th:only-of-type {\n",
       "        vertical-align: middle;\n",
       "    }\n",
       "\n",
       "    .dataframe tbody tr th {\n",
       "        vertical-align: top;\n",
       "    }\n",
       "\n",
       "    .dataframe thead th {\n",
       "        text-align: right;\n",
       "    }\n",
       "</style>\n",
       "<table border=\"1\" class=\"dataframe\">\n",
       "  <thead>\n",
       "    <tr style=\"text-align: right;\">\n",
       "      <th></th>\n",
       "      <th>feature</th>\n",
       "      <th>class</th>\n",
       "    </tr>\n",
       "  </thead>\n",
       "  <tbody>\n",
       "    <tr>\n",
       "      <th>0</th>\n",
       "      <td>[-283.32904, 126.99362, -36.856903, 43.745472,...</td>\n",
       "      <td>neutral</td>\n",
       "    </tr>\n",
       "    <tr>\n",
       "      <th>1</th>\n",
       "      <td>[-291.48126, 85.95444, -31.580286, 28.471468, ...</td>\n",
       "      <td>neutral</td>\n",
       "    </tr>\n",
       "    <tr>\n",
       "      <th>2</th>\n",
       "      <td>[-362.79108, 123.998245, -15.96158, 73.43797, ...</td>\n",
       "      <td>joy</td>\n",
       "    </tr>\n",
       "    <tr>\n",
       "      <th>3</th>\n",
       "      <td>[-236.65076, 117.45328, -47.395912, 15.700452,...</td>\n",
       "      <td>neutral</td>\n",
       "    </tr>\n",
       "    <tr>\n",
       "      <th>4</th>\n",
       "      <td>[-395.16562, 87.81874, -8.651618, 25.296888, -...</td>\n",
       "      <td>neutral</td>\n",
       "    </tr>\n",
       "  </tbody>\n",
       "</table>\n",
       "</div>"
      ],
      "text/plain": [
       "                                             feature    class\n",
       "0  [-283.32904, 126.99362, -36.856903, 43.745472,...  neutral\n",
       "1  [-291.48126, 85.95444, -31.580286, 28.471468, ...  neutral\n",
       "2  [-362.79108, 123.998245, -15.96158, 73.43797, ...      joy\n",
       "3  [-236.65076, 117.45328, -47.395912, 15.700452,...  neutral\n",
       "4  [-395.16562, 87.81874, -8.651618, 25.296888, -...  neutral"
      ]
     },
     "execution_count": 16,
     "metadata": {},
     "output_type": "execute_result"
    }
   ],
   "source": [
    "### converting extracted_features to Pandas dataframe\n",
    "extracted_features_df=pd.DataFrame(extracted_features,columns=['feature','class'])\n",
    "extracted_features_df.head()"
   ]
  },
  {
   "cell_type": "code",
   "execution_count": 17,
   "metadata": {},
   "outputs": [],
   "source": [
    "### Split the dataset into independent and dependent dataset\n",
    "X=np.array(extracted_features_df['feature'].tolist())\n",
    "y=np.array(extracted_features_df['class'].tolist())"
   ]
  },
  {
   "cell_type": "code",
   "execution_count": 18,
   "metadata": {},
   "outputs": [
    {
     "data": {
      "text/plain": [
       "(148, 40)"
      ]
     },
     "execution_count": 18,
     "metadata": {},
     "output_type": "execute_result"
    }
   ],
   "source": [
    "\n",
    "X.shape"
   ]
  },
  {
   "cell_type": "code",
   "execution_count": 19,
   "metadata": {},
   "outputs": [],
   "source": [
    "# y=np.array(pd.get_dummies(y))\n",
    "from tensorflow.keras.utils import to_categorical\n",
    "from sklearn.preprocessing import LabelEncoder\n",
    "le =LabelEncoder()\n",
    "y  = to_categorical(le.fit_transform(y))"
   ]
  },
  {
   "cell_type": "code",
   "execution_count": 20,
   "metadata": {},
   "outputs": [
    {
     "data": {
      "text/plain": [
       "(148, 7)"
      ]
     },
     "execution_count": 20,
     "metadata": {},
     "output_type": "execute_result"
    }
   ],
   "source": [
    "y.shape"
   ]
  },
  {
   "cell_type": "code",
   "execution_count": 21,
   "metadata": {},
   "outputs": [],
   "source": [
    "from sklearn.model_selection import train_test_split\n",
    "X_train,X_test,y_train,y_test=train_test_split(X,y,test_size=0.2,random_state=0)"
   ]
  },
  {
   "cell_type": "code",
   "execution_count": 22,
   "metadata": {},
   "outputs": [
    {
     "data": {
      "text/plain": [
       "array([[-3.35086304e+02,  1.00655945e+02,  1.15750322e+01, ...,\n",
       "         4.97933358e-01, -9.28447723e-01, -2.21577138e-01],\n",
       "       [-2.44470261e+02,  1.44882889e+02, -1.87322159e+01, ...,\n",
       "        -2.93154645e+00, -4.22071981e+00, -2.76413345e+00],\n",
       "       [-3.51046295e+02,  7.91976547e+01, -1.46302662e+01, ...,\n",
       "        -2.73816490e+00, -2.45752549e+00, -2.06995273e+00],\n",
       "       ...,\n",
       "       [-4.05186554e+02,  9.99327164e+01, -3.03007965e+01, ...,\n",
       "         7.68564224e-01, -1.37746060e+00, -4.28188705e+00],\n",
       "       [-2.81657379e+02,  1.21125153e+02, -3.00808525e+01, ...,\n",
       "         1.07207203e+00, -1.94373453e+00, -4.02039528e+00],\n",
       "       [-3.96142792e+02,  1.33932205e+02,  5.92521095e+00, ...,\n",
       "        -1.13504910e+00, -4.99346465e-01, -1.77273369e+00]], dtype=float32)"
      ]
     },
     "execution_count": 22,
     "metadata": {},
     "output_type": "execute_result"
    }
   ],
   "source": [
    "X_train"
   ]
  },
  {
   "cell_type": "code",
   "execution_count": 23,
   "metadata": {},
   "outputs": [
    {
     "data": {
      "text/plain": [
       "array([[0., 0., 1., 0., 0., 0., 0.],\n",
       "       [0., 0., 0., 0., 1., 0., 0.],\n",
       "       [0., 0., 1., 0., 0., 0., 0.],\n",
       "       [1., 0., 0., 0., 0., 0., 0.],\n",
       "       [0., 0., 0., 0., 0., 0., 1.],\n",
       "       [0., 0., 0., 0., 0., 0., 1.],\n",
       "       [0., 0., 0., 1., 0., 0., 0.],\n",
       "       [0., 0., 0., 1., 0., 0., 0.],\n",
       "       [0., 0., 0., 1., 0., 0., 0.],\n",
       "       [0., 0., 0., 0., 1., 0., 0.],\n",
       "       [0., 0., 0., 1., 0., 0., 0.],\n",
       "       [0., 0., 0., 0., 0., 0., 1.],\n",
       "       [0., 0., 0., 1., 0., 0., 0.],\n",
       "       [0., 0., 0., 0., 0., 1., 0.],\n",
       "       [0., 0., 0., 0., 1., 0., 0.],\n",
       "       [0., 0., 1., 0., 0., 0., 0.],\n",
       "       [0., 0., 0., 0., 1., 0., 0.],\n",
       "       [0., 0., 0., 0., 1., 0., 0.],\n",
       "       [0., 0., 0., 0., 1., 0., 0.],\n",
       "       [0., 0., 0., 1., 0., 0., 0.],\n",
       "       [0., 0., 0., 0., 0., 0., 1.],\n",
       "       [1., 0., 0., 0., 0., 0., 0.],\n",
       "       [0., 0., 0., 1., 0., 0., 0.],\n",
       "       [0., 0., 0., 0., 1., 0., 0.],\n",
       "       [0., 0., 0., 0., 0., 0., 1.],\n",
       "       [0., 0., 0., 0., 1., 0., 0.],\n",
       "       [0., 0., 1., 0., 0., 0., 0.],\n",
       "       [0., 0., 0., 0., 1., 0., 0.],\n",
       "       [0., 0., 0., 1., 0., 0., 0.],\n",
       "       [0., 1., 0., 0., 0., 0., 0.],\n",
       "       [0., 0., 0., 0., 1., 0., 0.],\n",
       "       [1., 0., 0., 0., 0., 0., 0.],\n",
       "       [0., 0., 0., 1., 0., 0., 0.],\n",
       "       [0., 0., 0., 0., 1., 0., 0.],\n",
       "       [0., 0., 0., 0., 1., 0., 0.],\n",
       "       [0., 0., 0., 0., 1., 0., 0.],\n",
       "       [0., 0., 0., 0., 1., 0., 0.],\n",
       "       [0., 0., 0., 0., 1., 0., 0.],\n",
       "       [0., 0., 0., 0., 1., 0., 0.],\n",
       "       [0., 0., 0., 0., 1., 0., 0.],\n",
       "       [0., 0., 0., 0., 1., 0., 0.],\n",
       "       [0., 1., 0., 0., 0., 0., 0.],\n",
       "       [0., 0., 0., 0., 1., 0., 0.],\n",
       "       [0., 0., 0., 1., 0., 0., 0.],\n",
       "       [0., 0., 0., 0., 1., 0., 0.],\n",
       "       [0., 0., 0., 1., 0., 0., 0.],\n",
       "       [0., 0., 0., 1., 0., 0., 0.],\n",
       "       [1., 0., 0., 0., 0., 0., 0.],\n",
       "       [0., 0., 0., 0., 0., 0., 1.],\n",
       "       [0., 0., 0., 1., 0., 0., 0.],\n",
       "       [0., 1., 0., 0., 0., 0., 0.],\n",
       "       [0., 0., 0., 0., 1., 0., 0.],\n",
       "       [1., 0., 0., 0., 0., 0., 0.],\n",
       "       [0., 0., 0., 0., 0., 0., 1.],\n",
       "       [0., 0., 0., 0., 1., 0., 0.],\n",
       "       [0., 1., 0., 0., 0., 0., 0.],\n",
       "       [0., 0., 0., 0., 1., 0., 0.],\n",
       "       [0., 0., 0., 0., 1., 0., 0.],\n",
       "       [0., 1., 0., 0., 0., 0., 0.],\n",
       "       [0., 0., 0., 0., 1., 0., 0.],\n",
       "       [0., 0., 0., 0., 1., 0., 0.],\n",
       "       [0., 0., 0., 0., 1., 0., 0.],\n",
       "       [0., 0., 0., 1., 0., 0., 0.],\n",
       "       [0., 0., 0., 0., 1., 0., 0.],\n",
       "       [0., 0., 0., 0., 1., 0., 0.],\n",
       "       [1., 0., 0., 0., 0., 0., 0.],\n",
       "       [0., 1., 0., 0., 0., 0., 0.],\n",
       "       [0., 0., 0., 1., 0., 0., 0.],\n",
       "       [0., 0., 0., 0., 1., 0., 0.],\n",
       "       [0., 0., 0., 0., 0., 0., 1.],\n",
       "       [0., 0., 0., 0., 1., 0., 0.],\n",
       "       [0., 0., 0., 0., 1., 0., 0.],\n",
       "       [0., 0., 0., 0., 1., 0., 0.],\n",
       "       [0., 0., 0., 0., 1., 0., 0.],\n",
       "       [0., 0., 0., 0., 0., 1., 0.],\n",
       "       [0., 0., 0., 0., 1., 0., 0.],\n",
       "       [0., 0., 0., 0., 1., 0., 0.],\n",
       "       [1., 0., 0., 0., 0., 0., 0.],\n",
       "       [0., 0., 0., 1., 0., 0., 0.],\n",
       "       [0., 0., 0., 0., 1., 0., 0.],\n",
       "       [1., 0., 0., 0., 0., 0., 0.],\n",
       "       [0., 1., 0., 0., 0., 0., 0.],\n",
       "       [0., 0., 0., 0., 1., 0., 0.],\n",
       "       [0., 0., 0., 0., 0., 1., 0.],\n",
       "       [0., 0., 0., 0., 1., 0., 0.],\n",
       "       [0., 0., 0., 0., 1., 0., 0.],\n",
       "       [0., 0., 0., 0., 0., 0., 1.],\n",
       "       [0., 0., 0., 1., 0., 0., 0.],\n",
       "       [0., 0., 0., 0., 1., 0., 0.],\n",
       "       [0., 0., 0., 0., 1., 0., 0.],\n",
       "       [0., 0., 0., 0., 0., 1., 0.],\n",
       "       [0., 0., 0., 1., 0., 0., 0.],\n",
       "       [0., 0., 0., 0., 1., 0., 0.],\n",
       "       [0., 0., 0., 0., 1., 0., 0.],\n",
       "       [0., 0., 0., 0., 1., 0., 0.],\n",
       "       [0., 0., 0., 0., 0., 1., 0.],\n",
       "       [0., 0., 0., 0., 1., 0., 0.],\n",
       "       [1., 0., 0., 0., 0., 0., 0.],\n",
       "       [0., 0., 0., 0., 1., 0., 0.],\n",
       "       [0., 0., 0., 1., 0., 0., 0.],\n",
       "       [0., 0., 0., 0., 0., 0., 1.],\n",
       "       [1., 0., 0., 0., 0., 0., 0.],\n",
       "       [0., 0., 0., 0., 1., 0., 0.],\n",
       "       [0., 0., 0., 0., 1., 0., 0.],\n",
       "       [0., 0., 0., 0., 0., 1., 0.],\n",
       "       [0., 0., 0., 0., 1., 0., 0.],\n",
       "       [1., 0., 0., 0., 0., 0., 0.],\n",
       "       [0., 0., 0., 0., 1., 0., 0.],\n",
       "       [0., 0., 0., 1., 0., 0., 0.],\n",
       "       [0., 0., 0., 1., 0., 0., 0.],\n",
       "       [0., 0., 0., 0., 1., 0., 0.],\n",
       "       [1., 0., 0., 0., 0., 0., 0.],\n",
       "       [1., 0., 0., 0., 0., 0., 0.],\n",
       "       [0., 0., 0., 0., 1., 0., 0.],\n",
       "       [0., 0., 0., 1., 0., 0., 0.],\n",
       "       [0., 0., 0., 1., 0., 0., 0.],\n",
       "       [0., 0., 0., 1., 0., 0., 0.],\n",
       "       [0., 0., 0., 0., 0., 0., 1.]], dtype=float32)"
      ]
     },
     "execution_count": 23,
     "metadata": {},
     "output_type": "execute_result"
    }
   ],
   "source": [
    "\n",
    "y_train"
   ]
  },
  {
   "cell_type": "code",
   "execution_count": 24,
   "metadata": {},
   "outputs": [],
   "source": [
    "import tensorflow as tf\n",
    "from tensorflow.keras.models import Sequential\n",
    "from tensorflow.keras.layers import Dense,Dropout,Activation,Flatten\n",
    "from tensorflow.keras.optimizers import Adam\n",
    "from sklearn import metrics"
   ]
  },
  {
   "cell_type": "code",
   "execution_count": 25,
   "metadata": {},
   "outputs": [],
   "source": [
    "num_labels=y.shape[1]"
   ]
  },
  {
   "cell_type": "code",
   "execution_count": 26,
   "metadata": {},
   "outputs": [],
   "source": [
    "\n",
    "model=Sequential()\n",
    "###first layer\n",
    "model.add(Dense(100,input_shape=(40,)))\n",
    "model.add(Activation('relu'))\n",
    "model.add(Dropout(0.5))\n",
    "###second layer\n",
    "model.add(Dense(200))\n",
    "model.add(Activation('relu'))\n",
    "model.add(Dropout(0.5))\n",
    "###third layer\n",
    "model.add(Dense(100))\n",
    "model.add(Activation('relu'))\n",
    "model.add(Dropout(0.5))\n",
    "\n",
    "###final layer\n",
    "model.add(Dense(num_labels))\n",
    "model.add(Activation('softmax'))"
   ]
  },
  {
   "cell_type": "code",
   "execution_count": 27,
   "metadata": {},
   "outputs": [
    {
     "name": "stdout",
     "output_type": "stream",
     "text": [
      "Model: \"sequential\"\n",
      "_________________________________________________________________\n",
      "Layer (type)                 Output Shape              Param #   \n",
      "=================================================================\n",
      "dense (Dense)                (None, 100)               4100      \n",
      "_________________________________________________________________\n",
      "activation (Activation)      (None, 100)               0         \n",
      "_________________________________________________________________\n",
      "dropout (Dropout)            (None, 100)               0         \n",
      "_________________________________________________________________\n",
      "dense_1 (Dense)              (None, 200)               20200     \n",
      "_________________________________________________________________\n",
      "activation_1 (Activation)    (None, 200)               0         \n",
      "_________________________________________________________________\n",
      "dropout_1 (Dropout)          (None, 200)               0         \n",
      "_________________________________________________________________\n",
      "dense_2 (Dense)              (None, 100)               20100     \n",
      "_________________________________________________________________\n",
      "activation_2 (Activation)    (None, 100)               0         \n",
      "_________________________________________________________________\n",
      "dropout_2 (Dropout)          (None, 100)               0         \n",
      "_________________________________________________________________\n",
      "dense_3 (Dense)              (None, 7)                 707       \n",
      "_________________________________________________________________\n",
      "activation_3 (Activation)    (None, 7)                 0         \n",
      "=================================================================\n",
      "Total params: 45,107\n",
      "Trainable params: 45,107\n",
      "Non-trainable params: 0\n",
      "_________________________________________________________________\n"
     ]
    }
   ],
   "source": [
    "model.summary()"
   ]
  },
  {
   "cell_type": "code",
   "execution_count": 28,
   "metadata": {},
   "outputs": [],
   "source": [
    "\n",
    "model.compile(loss='categorical_crossentropy',metrics=['accuracy'],optimizer='adam')"
   ]
  },
  {
   "cell_type": "code",
   "execution_count": 29,
   "metadata": {},
   "outputs": [
    {
     "name": "stdout",
     "output_type": "stream",
     "text": [
      "Epoch 1/100\n",
      "4/4 [==============================] - 1s 60ms/step - loss: 58.7728 - accuracy: 0.1271 - val_loss: 14.7742 - val_accuracy: 0.3667\n",
      "Epoch 2/100\n",
      "4/4 [==============================] - 0s 11ms/step - loss: 45.7954 - accuracy: 0.2458 - val_loss: 25.2225 - val_accuracy: 0.3667\n",
      "Epoch 3/100\n",
      "4/4 [==============================] - 0s 10ms/step - loss: 34.4154 - accuracy: 0.2458 - val_loss: 27.2034 - val_accuracy: 0.3667\n",
      "Epoch 4/100\n",
      "4/4 [==============================] - 0s 10ms/step - loss: 39.9847 - accuracy: 0.2373 - val_loss: 23.3994 - val_accuracy: 0.3667\n",
      "Epoch 5/100\n",
      "4/4 [==============================] - 0s 8ms/step - loss: 27.8369 - accuracy: 0.3390 - val_loss: 18.3275 - val_accuracy: 0.3667\n",
      "Epoch 6/100\n",
      "4/4 [==============================] - 0s 13ms/step - loss: 23.0415 - accuracy: 0.3051 - val_loss: 12.8090 - val_accuracy: 0.3667\n",
      "Epoch 7/100\n",
      "4/4 [==============================] - 0s 11ms/step - loss: 20.1832 - accuracy: 0.2712 - val_loss: 8.8621 - val_accuracy: 0.3667\n",
      "Epoch 8/100\n",
      "4/4 [==============================] - 0s 13ms/step - loss: 21.3182 - accuracy: 0.2797 - val_loss: 6.0317 - val_accuracy: 0.3667\n",
      "Epoch 9/100\n",
      "4/4 [==============================] - 0s 12ms/step - loss: 17.6268 - accuracy: 0.2797 - val_loss: 4.1840 - val_accuracy: 0.3667\n",
      "Epoch 10/100\n",
      "4/4 [==============================] - 0s 10ms/step - loss: 16.0203 - accuracy: 0.3051 - val_loss: 3.4741 - val_accuracy: 0.3667\n",
      "Epoch 11/100\n",
      "4/4 [==============================] - 0s 9ms/step - loss: 17.5656 - accuracy: 0.2966 - val_loss: 2.8443 - val_accuracy: 0.3667\n",
      "Epoch 12/100\n",
      "4/4 [==============================] - 0s 8ms/step - loss: 13.9667 - accuracy: 0.2203 - val_loss: 2.5551 - val_accuracy: 0.3667\n",
      "Epoch 13/100\n",
      "4/4 [==============================] - 0s 10ms/step - loss: 14.2719 - accuracy: 0.1864 - val_loss: 2.4071 - val_accuracy: 0.3667\n",
      "Epoch 14/100\n",
      "4/4 [==============================] - 0s 8ms/step - loss: 9.9005 - accuracy: 0.2881 - val_loss: 2.4395 - val_accuracy: 0.3667\n",
      "Epoch 15/100\n",
      "4/4 [==============================] - 0s 7ms/step - loss: 10.2705 - accuracy: 0.3051 - val_loss: 2.4268 - val_accuracy: 0.3667\n",
      "Epoch 16/100\n",
      "4/4 [==============================] - 0s 9ms/step - loss: 9.9127 - accuracy: 0.2119 - val_loss: 2.3726 - val_accuracy: 0.3667\n",
      "Epoch 17/100\n",
      "4/4 [==============================] - 0s 8ms/step - loss: 9.2055 - accuracy: 0.2373 - val_loss: 2.3239 - val_accuracy: 0.3667\n",
      "Epoch 18/100\n",
      "4/4 [==============================] - 0s 8ms/step - loss: 8.8668 - accuracy: 0.2712 - val_loss: 2.1868 - val_accuracy: 0.3667\n",
      "Epoch 19/100\n",
      "4/4 [==============================] - 0s 9ms/step - loss: 9.1540 - accuracy: 0.2373 - val_loss: 2.0827 - val_accuracy: 0.3667\n",
      "Epoch 20/100\n",
      "4/4 [==============================] - 0s 7ms/step - loss: 9.5940 - accuracy: 0.2627 - val_loss: 1.9460 - val_accuracy: 0.3667\n",
      "Epoch 21/100\n",
      "4/4 [==============================] - 0s 9ms/step - loss: 8.0101 - accuracy: 0.2373 - val_loss: 1.8263 - val_accuracy: 0.3667\n",
      "Epoch 22/100\n",
      "4/4 [==============================] - 0s 8ms/step - loss: 7.9692 - accuracy: 0.2373 - val_loss: 1.7479 - val_accuracy: 0.3667\n",
      "Epoch 23/100\n",
      "4/4 [==============================] - 0s 9ms/step - loss: 6.1913 - accuracy: 0.2373 - val_loss: 1.7242 - val_accuracy: 0.3667\n",
      "Epoch 24/100\n",
      "4/4 [==============================] - 0s 8ms/step - loss: 6.6593 - accuracy: 0.2881 - val_loss: 1.7347 - val_accuracy: 0.3000\n",
      "Epoch 25/100\n",
      "4/4 [==============================] - 0s 9ms/step - loss: 6.8159 - accuracy: 0.2203 - val_loss: 1.7503 - val_accuracy: 0.3333\n",
      "Epoch 26/100\n",
      "4/4 [==============================] - 0s 8ms/step - loss: 5.7964 - accuracy: 0.2881 - val_loss: 1.7698 - val_accuracy: 0.3000\n",
      "Epoch 27/100\n",
      "4/4 [==============================] - 0s 8ms/step - loss: 4.9838 - accuracy: 0.2373 - val_loss: 1.7900 - val_accuracy: 0.2667\n",
      "Epoch 28/100\n",
      "4/4 [==============================] - 0s 8ms/step - loss: 4.7514 - accuracy: 0.2458 - val_loss: 1.8100 - val_accuracy: 0.2667\n",
      "Epoch 29/100\n",
      "4/4 [==============================] - 0s 8ms/step - loss: 5.4442 - accuracy: 0.1695 - val_loss: 1.8396 - val_accuracy: 0.2333\n",
      "Epoch 30/100\n",
      "4/4 [==============================] - 0s 13ms/step - loss: 5.4227 - accuracy: 0.2203 - val_loss: 1.8453 - val_accuracy: 0.3000\n",
      "Epoch 31/100\n",
      "4/4 [==============================] - 0s 12ms/step - loss: 4.6879 - accuracy: 0.2881 - val_loss: 1.8306 - val_accuracy: 0.3333\n",
      "Epoch 32/100\n",
      "4/4 [==============================] - 0s 11ms/step - loss: 4.4355 - accuracy: 0.2288 - val_loss: 1.8129 - val_accuracy: 0.3667\n",
      "Epoch 33/100\n",
      "4/4 [==============================] - 0s 9ms/step - loss: 4.9993 - accuracy: 0.2373 - val_loss: 1.8113 - val_accuracy: 0.3667\n",
      "Epoch 34/100\n",
      "4/4 [==============================] - 0s 8ms/step - loss: 4.6942 - accuracy: 0.2203 - val_loss: 1.8184 - val_accuracy: 0.3667\n",
      "Epoch 35/100\n",
      "4/4 [==============================] - 0s 7ms/step - loss: 3.7884 - accuracy: 0.2797 - val_loss: 1.8268 - val_accuracy: 0.3667\n",
      "Epoch 36/100\n",
      "4/4 [==============================] - 0s 9ms/step - loss: 3.6194 - accuracy: 0.2797 - val_loss: 1.8400 - val_accuracy: 0.3667\n",
      "Epoch 37/100\n",
      "4/4 [==============================] - 0s 8ms/step - loss: 4.1710 - accuracy: 0.2034 - val_loss: 1.8611 - val_accuracy: 0.3667\n",
      "Epoch 38/100\n",
      "4/4 [==============================] - 0s 8ms/step - loss: 3.8101 - accuracy: 0.2458 - val_loss: 1.8742 - val_accuracy: 0.3667\n",
      "Epoch 39/100\n",
      "4/4 [==============================] - 0s 8ms/step - loss: 3.7770 - accuracy: 0.2797 - val_loss: 1.8766 - val_accuracy: 0.3667\n",
      "Epoch 40/100\n",
      "4/4 [==============================] - 0s 7ms/step - loss: 3.4549 - accuracy: 0.2458 - val_loss: 1.8782 - val_accuracy: 0.3667\n",
      "Epoch 41/100\n",
      "4/4 [==============================] - 0s 8ms/step - loss: 3.0320 - accuracy: 0.2627 - val_loss: 1.8794 - val_accuracy: 0.3667\n",
      "Epoch 42/100\n",
      "4/4 [==============================] - 0s 8ms/step - loss: 3.7956 - accuracy: 0.1695 - val_loss: 1.8797 - val_accuracy: 0.3667\n",
      "Epoch 43/100\n",
      "4/4 [==============================] - 0s 14ms/step - loss: 3.2094 - accuracy: 0.2712 - val_loss: 1.8796 - val_accuracy: 0.3667\n",
      "Epoch 44/100\n",
      "4/4 [==============================] - 0s 14ms/step - loss: 3.1681 - accuracy: 0.2288 - val_loss: 1.8795 - val_accuracy: 0.3667\n",
      "Epoch 45/100\n",
      "4/4 [==============================] - 0s 7ms/step - loss: 2.2835 - accuracy: 0.3220 - val_loss: 1.8818 - val_accuracy: 0.3667\n",
      "Epoch 46/100\n",
      "4/4 [==============================] - 0s 8ms/step - loss: 3.1490 - accuracy: 0.2542 - val_loss: 1.8862 - val_accuracy: 0.3667\n",
      "Epoch 47/100\n",
      "4/4 [==============================] - 0s 8ms/step - loss: 2.9413 - accuracy: 0.2712 - val_loss: 1.8931 - val_accuracy: 0.3667\n",
      "Epoch 48/100\n",
      "4/4 [==============================] - 0s 17ms/step - loss: 2.7962 - accuracy: 0.2119 - val_loss: 1.8966 - val_accuracy: 0.3667\n",
      "Epoch 49/100\n",
      "4/4 [==============================] - 0s 9ms/step - loss: 2.7979 - accuracy: 0.2542 - val_loss: 1.8974 - val_accuracy: 0.3667\n",
      "Epoch 50/100\n",
      "4/4 [==============================] - 0s 12ms/step - loss: 2.7521 - accuracy: 0.3136 - val_loss: 1.8973 - val_accuracy: 0.3667\n",
      "Epoch 51/100\n",
      "4/4 [==============================] - 0s 8ms/step - loss: 2.7292 - accuracy: 0.2627 - val_loss: 1.8985 - val_accuracy: 0.3667\n",
      "Epoch 52/100\n",
      "4/4 [==============================] - 0s 9ms/step - loss: 2.5191 - accuracy: 0.3136 - val_loss: 1.8990 - val_accuracy: 0.3667\n",
      "Epoch 53/100\n",
      "4/4 [==============================] - 0s 13ms/step - loss: 2.7061 - accuracy: 0.2373 - val_loss: 1.8994 - val_accuracy: 0.3667\n",
      "Epoch 54/100\n",
      "4/4 [==============================] - 0s 6ms/step - loss: 2.3994 - accuracy: 0.3136 - val_loss: 1.9000 - val_accuracy: 0.3667\n",
      "Epoch 55/100\n",
      "4/4 [==============================] - 0s 8ms/step - loss: 2.2675 - accuracy: 0.3559 - val_loss: 1.8991 - val_accuracy: 0.3667\n",
      "Epoch 56/100\n",
      "4/4 [==============================] - 0s 11ms/step - loss: 2.1475 - accuracy: 0.3729 - val_loss: 1.8973 - val_accuracy: 0.3667\n",
      "Epoch 57/100\n",
      "4/4 [==============================] - 0s 54ms/step - loss: 2.4579 - accuracy: 0.2881 - val_loss: 1.8960 - val_accuracy: 0.3667\n",
      "Epoch 58/100\n",
      "4/4 [==============================] - 0s 74ms/step - loss: 2.2183 - accuracy: 0.2627 - val_loss: 1.8932 - val_accuracy: 0.3667\n",
      "Epoch 59/100\n"
     ]
    },
    {
     "name": "stdout",
     "output_type": "stream",
     "text": [
      "4/4 [==============================] - 0s 64ms/step - loss: 2.7379 - accuracy: 0.2373 - val_loss: 1.8910 - val_accuracy: 0.3667\n",
      "Epoch 60/100\n",
      "4/4 [==============================] - 0s 61ms/step - loss: 2.0461 - accuracy: 0.3305 - val_loss: 1.8892 - val_accuracy: 0.3667\n",
      "Epoch 61/100\n",
      "4/4 [==============================] - 0s 59ms/step - loss: 2.1488 - accuracy: 0.3305 - val_loss: 1.8886 - val_accuracy: 0.3667\n",
      "Epoch 62/100\n",
      "4/4 [==============================] - 0s 71ms/step - loss: 2.1004 - accuracy: 0.3559 - val_loss: 1.8871 - val_accuracy: 0.3667\n",
      "Epoch 63/100\n",
      "4/4 [==============================] - 0s 66ms/step - loss: 2.5240 - accuracy: 0.3051 - val_loss: 1.8857 - val_accuracy: 0.3667\n",
      "Epoch 64/100\n",
      "4/4 [==============================] - 0s 68ms/step - loss: 2.2890 - accuracy: 0.2966 - val_loss: 1.8829 - val_accuracy: 0.3667\n",
      "Epoch 65/100\n",
      "4/4 [==============================] - 0s 61ms/step - loss: 2.1650 - accuracy: 0.3559 - val_loss: 1.8799 - val_accuracy: 0.3667\n",
      "Epoch 66/100\n",
      "4/4 [==============================] - 0s 59ms/step - loss: 2.3863 - accuracy: 0.3390 - val_loss: 1.8789 - val_accuracy: 0.3667\n",
      "Epoch 67/100\n",
      "4/4 [==============================] - 0s 63ms/step - loss: 2.1961 - accuracy: 0.3475 - val_loss: 1.8787 - val_accuracy: 0.3667\n",
      "Epoch 68/100\n",
      "4/4 [==============================] - 0s 58ms/step - loss: 2.2293 - accuracy: 0.3305 - val_loss: 1.8768 - val_accuracy: 0.3667\n",
      "Epoch 69/100\n",
      "4/4 [==============================] - 0s 65ms/step - loss: 2.2397 - accuracy: 0.3559 - val_loss: 1.8745 - val_accuracy: 0.3667\n",
      "Epoch 70/100\n",
      "4/4 [==============================] - 0s 54ms/step - loss: 2.4335 - accuracy: 0.3559 - val_loss: 1.8734 - val_accuracy: 0.3667\n",
      "Epoch 71/100\n",
      "4/4 [==============================] - 0s 62ms/step - loss: 2.2120 - accuracy: 0.3220 - val_loss: 1.8717 - val_accuracy: 0.3667\n",
      "Epoch 72/100\n",
      "4/4 [==============================] - 0s 66ms/step - loss: 2.1664 - accuracy: 0.2966 - val_loss: 1.8703 - val_accuracy: 0.3667\n",
      "Epoch 73/100\n",
      "4/4 [==============================] - 0s 55ms/step - loss: 2.1958 - accuracy: 0.3390 - val_loss: 1.8682 - val_accuracy: 0.3667\n",
      "Epoch 74/100\n",
      "4/4 [==============================] - 0s 63ms/step - loss: 1.9895 - accuracy: 0.4068 - val_loss: 1.8667 - val_accuracy: 0.3667\n",
      "Epoch 75/100\n",
      "4/4 [==============================] - 0s 61ms/step - loss: 1.9851 - accuracy: 0.3305 - val_loss: 1.8657 - val_accuracy: 0.3667\n",
      "Epoch 76/100\n",
      "4/4 [==============================] - 0s 62ms/step - loss: 1.8439 - accuracy: 0.3814 - val_loss: 1.8657 - val_accuracy: 0.3667\n",
      "Epoch 77/100\n",
      "4/4 [==============================] - 0s 63ms/step - loss: 2.0687 - accuracy: 0.3220 - val_loss: 1.8651 - val_accuracy: 0.3667\n",
      "Epoch 78/100\n",
      "4/4 [==============================] - 0s 58ms/step - loss: 2.1294 - accuracy: 0.3136 - val_loss: 1.8650 - val_accuracy: 0.3667\n",
      "Epoch 79/100\n",
      "4/4 [==============================] - 0s 67ms/step - loss: 2.0585 - accuracy: 0.3983 - val_loss: 1.8646 - val_accuracy: 0.3667\n",
      "Epoch 80/100\n",
      "4/4 [==============================] - 0s 8ms/step - loss: 2.0973 - accuracy: 0.3305 - val_loss: 1.8632 - val_accuracy: 0.3667\n",
      "Epoch 81/100\n",
      "4/4 [==============================] - 0s 6ms/step - loss: 2.0654 - accuracy: 0.3559 - val_loss: 1.8617 - val_accuracy: 0.3667\n",
      "Epoch 82/100\n",
      "4/4 [==============================] - 0s 7ms/step - loss: 2.0475 - accuracy: 0.3559 - val_loss: 1.8590 - val_accuracy: 0.3667\n",
      "Epoch 83/100\n",
      "4/4 [==============================] - 0s 7ms/step - loss: 2.0803 - accuracy: 0.3729 - val_loss: 1.8563 - val_accuracy: 0.3667\n",
      "Epoch 84/100\n",
      "4/4 [==============================] - 0s 7ms/step - loss: 1.9301 - accuracy: 0.4153 - val_loss: 1.8534 - val_accuracy: 0.3667\n",
      "Epoch 85/100\n",
      "4/4 [==============================] - 0s 12ms/step - loss: 1.9387 - accuracy: 0.3559 - val_loss: 1.8503 - val_accuracy: 0.3667\n",
      "Epoch 86/100\n",
      "4/4 [==============================] - 0s 8ms/step - loss: 1.8596 - accuracy: 0.3898 - val_loss: 1.8488 - val_accuracy: 0.3667\n",
      "Epoch 87/100\n",
      "4/4 [==============================] - 0s 7ms/step - loss: 1.9198 - accuracy: 0.3898 - val_loss: 1.8475 - val_accuracy: 0.3667\n",
      "Epoch 88/100\n",
      "4/4 [==============================] - 0s 7ms/step - loss: 2.0823 - accuracy: 0.3475 - val_loss: 1.8461 - val_accuracy: 0.3667\n",
      "Epoch 89/100\n",
      "4/4 [==============================] - 0s 7ms/step - loss: 1.8481 - accuracy: 0.3475 - val_loss: 1.8448 - val_accuracy: 0.3667\n",
      "Epoch 90/100\n",
      "4/4 [==============================] - 0s 6ms/step - loss: 1.8459 - accuracy: 0.4576 - val_loss: 1.8435 - val_accuracy: 0.3667\n",
      "Epoch 91/100\n",
      "4/4 [==============================] - 0s 8ms/step - loss: 1.8572 - accuracy: 0.3898 - val_loss: 1.8422 - val_accuracy: 0.3667\n",
      "Epoch 92/100\n",
      "4/4 [==============================] - 0s 8ms/step - loss: 1.9577 - accuracy: 0.3898 - val_loss: 1.8409 - val_accuracy: 0.3667\n",
      "Epoch 93/100\n",
      "4/4 [==============================] - 0s 15ms/step - loss: 1.8764 - accuracy: 0.4153 - val_loss: 1.8396 - val_accuracy: 0.3667\n",
      "Epoch 94/100\n",
      "4/4 [==============================] - 0s 9ms/step - loss: 1.8544 - accuracy: 0.3644 - val_loss: 1.8383 - val_accuracy: 0.3667\n",
      "Epoch 95/100\n",
      "4/4 [==============================] - 0s 7ms/step - loss: 1.8359 - accuracy: 0.3983 - val_loss: 1.8371 - val_accuracy: 0.3667\n",
      "Epoch 96/100\n",
      "4/4 [==============================] - 0s 15ms/step - loss: 1.9266 - accuracy: 0.4068 - val_loss: 1.8359 - val_accuracy: 0.3667\n",
      "Epoch 97/100\n",
      "4/4 [==============================] - 0s 8ms/step - loss: 2.0971 - accuracy: 0.3898 - val_loss: 1.8347 - val_accuracy: 0.3667\n",
      "Epoch 98/100\n",
      "4/4 [==============================] - 0s 8ms/step - loss: 1.8931 - accuracy: 0.4153 - val_loss: 1.8335 - val_accuracy: 0.3667\n",
      "Epoch 99/100\n",
      "4/4 [==============================] - 0s 10ms/step - loss: 1.8506 - accuracy: 0.4407 - val_loss: 1.8324 - val_accuracy: 0.3667\n",
      "Epoch 100/100\n",
      "4/4 [==============================] - 0s 8ms/step - loss: 1.8246 - accuracy: 0.4322 - val_loss: 1.8314 - val_accuracy: 0.3667\n",
      "Training completed in time:  0:00:08.467039\n"
     ]
    }
   ],
   "source": [
    "## Trianing my model\n",
    "from tensorflow.keras.callbacks import ModelCheckpoint\n",
    "from datetime import datetime \n",
    "\n",
    "num_epochs = 100\n",
    "num_batch_size = 32\n",
    "\n",
    "checkpointer = ModelCheckpoint(filepath='saved_models/audio_classification.hdf5', \n",
    "                               verbose=1, save_best_only=True)\n",
    "start = datetime.now()\n",
    "\n",
    "model.fit(X_train, y_train, batch_size=num_batch_size, epochs=num_epochs, validation_data=(X_test, y_test), verbose=1)\n",
    "\n",
    "\n",
    "duration = datetime.now() - start\n",
    "print(\"Training completed in time: \", duration)"
   ]
  },
  {
   "cell_type": "code",
   "execution_count": 30,
   "metadata": {},
   "outputs": [
    {
     "name": "stdout",
     "output_type": "stream",
     "text": [
      "0.36666667461395264\n"
     ]
    }
   ],
   "source": [
    "test_accuracy=model.evaluate(X_test,y_test,verbose=0)\n",
    "print(test_accuracy[1])"
   ]
  },
  {
   "cell_type": "code",
   "execution_count": 73,
   "metadata": {},
   "outputs": [
    {
     "data": {
      "text/plain": [
       "'neutral'"
      ]
     },
     "execution_count": 73,
     "metadata": {},
     "output_type": "execute_result"
    }
   ],
   "source": [
    "filename = 'dataset/TrainAudioFiles/'+str(filename)\n",
    "prediction_feature=features_extractor(filename)\n",
    "prediction_feature=prediction_feature.reshape(1,-1)\n",
    "pc= model.predict_classes(prediction_feature)\n",
    "p_c = le.inverse_transform(pc)\n",
    "p_c[0]"
   ]
  },
  {
   "cell_type": "code",
   "execution_count": 74,
   "metadata": {},
   "outputs": [],
   "source": [
    "test_df= pd.read_csv(\"./dataset/test.csv\")"
   ]
  },
  {
   "cell_type": "code",
   "execution_count": 76,
   "metadata": {},
   "outputs": [
    {
     "name": "stderr",
     "output_type": "stream",
     "text": [
      "251it [01:11,  3.24it/s]C:\\Users\\ved17\\anaconda3\\lib\\site-packages\\librosa\\core\\spectrum.py:222: UserWarning: n_fft=2048 is too small for input signal of length=1764\n",
      "  warnings.warn(\n",
      "2492it [12:05,  3.43it/s]\n"
     ]
    }
   ],
   "source": [
    "test_features=[]\n",
    "for index_num,row in tqdm(test_df.iterrows()):\n",
    "    file_name = os.path.join(\"./dataset/TestAudioFiles\",str(row[\"filename\"]))\n",
    "    data=features_extractor(file_name)\n",
    "    data  = data.reshape(1,-1)\n",
    "    test_features.append(data)"
   ]
  },
  {
   "cell_type": "code",
   "execution_count": 77,
   "metadata": {},
   "outputs": [
    {
     "name": "stderr",
     "output_type": "stream",
     "text": [
      "C:\\Users\\ved17\\anaconda3\\lib\\site-packages\\tensorflow\\python\\keras\\engine\\sequential.py:455: UserWarning: `model.predict_classes()` is deprecated and will be removed after 2021-01-01. Please use instead:* `np.argmax(model.predict(x), axis=-1)`,   if your model does multi-class classification   (e.g. if it uses a `softmax` last-layer activation).* `(model.predict(x) > 0.5).astype(\"int32\")`,   if your model does binary classification   (e.g. if it uses a `sigmoid` last-layer activation).\n",
      "  warnings.warn('`model.predict_classes()` is deprecated and '\n"
     ]
    }
   ],
   "source": [
    "predicted_classes = []\n",
    "for test_feature in test_features:\n",
    "    pc= model.predict_classes(prediction_feature)\n",
    "    p_c = le.inverse_transform(pc)\n",
    "    predicted_classes.append(p_c[0])\n"
   ]
  },
  {
   "cell_type": "code",
   "execution_count": 81,
   "metadata": {},
   "outputs": [
    {
     "data": {
      "text/plain": [
       "2492"
      ]
     },
     "execution_count": 81,
     "metadata": {},
     "output_type": "execute_result"
    }
   ],
   "source": [
    "len(predicted_classes)"
   ]
  },
  {
   "cell_type": "code",
   "execution_count": 82,
   "metadata": {},
   "outputs": [],
   "source": [
    "pred_class_df = pd.DataFrame(predicted_classes)"
   ]
  },
  {
   "cell_type": "code",
   "execution_count": 83,
   "metadata": {},
   "outputs": [
    {
     "data": {
      "text/html": [
       "<div>\n",
       "<style scoped>\n",
       "    .dataframe tbody tr th:only-of-type {\n",
       "        vertical-align: middle;\n",
       "    }\n",
       "\n",
       "    .dataframe tbody tr th {\n",
       "        vertical-align: top;\n",
       "    }\n",
       "\n",
       "    .dataframe thead th {\n",
       "        text-align: right;\n",
       "    }\n",
       "</style>\n",
       "<table border=\"1\" class=\"dataframe\">\n",
       "  <thead>\n",
       "    <tr style=\"text-align: right;\">\n",
       "      <th></th>\n",
       "      <th>0</th>\n",
       "    </tr>\n",
       "  </thead>\n",
       "  <tbody>\n",
       "    <tr>\n",
       "      <th>0</th>\n",
       "      <td>neutral</td>\n",
       "    </tr>\n",
       "    <tr>\n",
       "      <th>1</th>\n",
       "      <td>neutral</td>\n",
       "    </tr>\n",
       "    <tr>\n",
       "      <th>2</th>\n",
       "      <td>neutral</td>\n",
       "    </tr>\n",
       "    <tr>\n",
       "      <th>3</th>\n",
       "      <td>neutral</td>\n",
       "    </tr>\n",
       "    <tr>\n",
       "      <th>4</th>\n",
       "      <td>neutral</td>\n",
       "    </tr>\n",
       "    <tr>\n",
       "      <th>...</th>\n",
       "      <td>...</td>\n",
       "    </tr>\n",
       "    <tr>\n",
       "      <th>2487</th>\n",
       "      <td>neutral</td>\n",
       "    </tr>\n",
       "    <tr>\n",
       "      <th>2488</th>\n",
       "      <td>neutral</td>\n",
       "    </tr>\n",
       "    <tr>\n",
       "      <th>2489</th>\n",
       "      <td>neutral</td>\n",
       "    </tr>\n",
       "    <tr>\n",
       "      <th>2490</th>\n",
       "      <td>neutral</td>\n",
       "    </tr>\n",
       "    <tr>\n",
       "      <th>2491</th>\n",
       "      <td>neutral</td>\n",
       "    </tr>\n",
       "  </tbody>\n",
       "</table>\n",
       "<p>2492 rows × 1 columns</p>\n",
       "</div>"
      ],
      "text/plain": [
       "            0\n",
       "0     neutral\n",
       "1     neutral\n",
       "2     neutral\n",
       "3     neutral\n",
       "4     neutral\n",
       "...       ...\n",
       "2487  neutral\n",
       "2488  neutral\n",
       "2489  neutral\n",
       "2490  neutral\n",
       "2491  neutral\n",
       "\n",
       "[2492 rows x 1 columns]"
      ]
     },
     "execution_count": 83,
     "metadata": {},
     "output_type": "execute_result"
    }
   ],
   "source": [
    "pred_class_df"
   ]
  },
  {
   "cell_type": "code",
   "execution_count": 84,
   "metadata": {},
   "outputs": [],
   "source": [
    "pred_df = pd.concat([test_df, pred_class_df], axis=1)"
   ]
  },
  {
   "cell_type": "code",
   "execution_count": 86,
   "metadata": {},
   "outputs": [
    {
     "data": {
      "text/html": [
       "<div>\n",
       "<style scoped>\n",
       "    .dataframe tbody tr th:only-of-type {\n",
       "        vertical-align: middle;\n",
       "    }\n",
       "\n",
       "    .dataframe tbody tr th {\n",
       "        vertical-align: top;\n",
       "    }\n",
       "\n",
       "    .dataframe thead th {\n",
       "        text-align: right;\n",
       "    }\n",
       "</style>\n",
       "<table border=\"1\" class=\"dataframe\">\n",
       "  <thead>\n",
       "    <tr style=\"text-align: right;\">\n",
       "      <th></th>\n",
       "      <th>filename</th>\n",
       "      <th>emotion</th>\n",
       "    </tr>\n",
       "  </thead>\n",
       "  <tbody>\n",
       "    <tr>\n",
       "      <th>0</th>\n",
       "      <td>26199.mp3</td>\n",
       "      <td>neutral</td>\n",
       "    </tr>\n",
       "    <tr>\n",
       "      <th>1</th>\n",
       "      <td>692.mp3</td>\n",
       "      <td>neutral</td>\n",
       "    </tr>\n",
       "    <tr>\n",
       "      <th>2</th>\n",
       "      <td>16821.mp3</td>\n",
       "      <td>neutral</td>\n",
       "    </tr>\n",
       "    <tr>\n",
       "      <th>3</th>\n",
       "      <td>1608.mp3</td>\n",
       "      <td>neutral</td>\n",
       "    </tr>\n",
       "    <tr>\n",
       "      <th>4</th>\n",
       "      <td>47947.wav</td>\n",
       "      <td>neutral</td>\n",
       "    </tr>\n",
       "    <tr>\n",
       "      <th>...</th>\n",
       "      <td>...</td>\n",
       "      <td>...</td>\n",
       "    </tr>\n",
       "    <tr>\n",
       "      <th>2487</th>\n",
       "      <td>16692.mp3</td>\n",
       "      <td>neutral</td>\n",
       "    </tr>\n",
       "    <tr>\n",
       "      <th>2488</th>\n",
       "      <td>29505.mp3</td>\n",
       "      <td>neutral</td>\n",
       "    </tr>\n",
       "    <tr>\n",
       "      <th>2489</th>\n",
       "      <td>5807.mp3</td>\n",
       "      <td>neutral</td>\n",
       "    </tr>\n",
       "    <tr>\n",
       "      <th>2490</th>\n",
       "      <td>43982.wav</td>\n",
       "      <td>neutral</td>\n",
       "    </tr>\n",
       "    <tr>\n",
       "      <th>2491</th>\n",
       "      <td>4079.mp3</td>\n",
       "      <td>neutral</td>\n",
       "    </tr>\n",
       "  </tbody>\n",
       "</table>\n",
       "<p>2492 rows × 2 columns</p>\n",
       "</div>"
      ],
      "text/plain": [
       "       filename  emotion\n",
       "0     26199.mp3  neutral\n",
       "1       692.mp3  neutral\n",
       "2     16821.mp3  neutral\n",
       "3      1608.mp3  neutral\n",
       "4     47947.wav  neutral\n",
       "...         ...      ...\n",
       "2487  16692.mp3  neutral\n",
       "2488  29505.mp3  neutral\n",
       "2489   5807.mp3  neutral\n",
       "2490  43982.wav  neutral\n",
       "2491   4079.mp3  neutral\n",
       "\n",
       "[2492 rows x 2 columns]"
      ]
     },
     "execution_count": 86,
     "metadata": {},
     "output_type": "execute_result"
    }
   ],
   "source": [
    "pred_df.columns = [\"filename\",\"emotion\"]\n",
    "pred_df\n"
   ]
  },
  {
   "cell_type": "code",
   "execution_count": 88,
   "metadata": {},
   "outputs": [],
   "source": [
    "pred_df.to_csv(\"pred_v1.csv\",index=False)"
   ]
  },
  {
   "cell_type": "code",
   "execution_count": null,
   "metadata": {},
   "outputs": [],
   "source": []
  }
 ],
 "metadata": {
  "kernelspec": {
   "display_name": "Python 3",
   "language": "python",
   "name": "python3"
  },
  "language_info": {
   "codemirror_mode": {
    "name": "ipython",
    "version": 3
   },
   "file_extension": ".py",
   "mimetype": "text/x-python",
   "name": "python",
   "nbconvert_exporter": "python",
   "pygments_lexer": "ipython3",
   "version": "3.8.5"
  }
 },
 "nbformat": 4,
 "nbformat_minor": 4
}
